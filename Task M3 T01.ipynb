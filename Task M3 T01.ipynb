{
 "cells": [
  {
   "cell_type": "markdown",
   "id": "563c7078",
   "metadata": {},
   "source": [
    "# Task M3 T01"
   ]
  },
  {
   "cell_type": "code",
   "execution_count": 183,
   "id": "1773c21b",
   "metadata": {},
   "outputs": [],
   "source": [
    "import numpy as np\n",
    "from numpy import random as rd\n",
    "from scipy import stats as st\n",
    "import math"
   ]
  },
  {
   "cell_type": "markdown",
   "id": "14e1a006",
   "metadata": {},
   "source": [
    "## Exercise 1"
   ]
  },
  {
   "cell_type": "markdown",
   "id": "56e03909",
   "metadata": {},
   "source": [
    "Create a function that given a one dimension array, it returns a basic statistic summary of the data. If the function detects that the array has more than one dimension, it has to show an error message."
   ]
  },
  {
   "cell_type": "code",
   "execution_count": 184,
   "id": "b4f39ebc",
   "metadata": {},
   "outputs": [],
   "source": [
    "# Function basic_summary()\n",
    "def basic_summary(arr):\n",
    "    if arr.ndim != 1:\n",
    "        print(\"ERROR: The array must be uni-dimensional!!!\")\n",
    "    else:\n",
    "        # Mean\n",
    "        arr_mean = np.mean(arr)\n",
    "        print(\"Mean: {}\".format(arr_mean))\n",
    "        # Median\n",
    "        arr_median = np.median(arr)\n",
    "        print(\"Median: {}\".format(arr_median))\n",
    "        # Standard deviation\n",
    "        arr_std = np.std(arr)\n",
    "        print(\"Standard deviation: {:.2f}\".format(arr_std))\n",
    "        # Variance\n",
    "        arr_var = np.var(arr)\n",
    "        print(\"Variance: {:.2f}\".format(arr_var))\n",
    "        # Mode\n",
    "        arr_mode = st.mode(arr)\n",
    "        print(\"Mode \\telement: {}\\n\\tcount: {}\".format(arr_mode[0][0],arr_mode[1][0]))"
   ]
  },
  {
   "cell_type": "code",
   "execution_count": 185,
   "id": "0f9b3593",
   "metadata": {},
   "outputs": [
    {
     "name": "stdout",
     "output_type": "stream",
     "text": [
      "TEST 1:\n",
      "\n",
      "Expected result: Show basic statistic summary\n",
      "\n",
      "Result:\n",
      "\n",
      "Mean: 3.93\n",
      "Median: 3.5\n",
      "Standard deviation: 2.77\n",
      "Variance: 7.69\n",
      "Mode \telement: 1\n",
      "\tcount: 14\n",
      "\n",
      "TEST 2:\n",
      "\n",
      "Expected result: Error message\n",
      "\n",
      "Result:\n",
      "\n",
      "ERROR: The array must be uni-dimensional!!!\n"
     ]
    }
   ],
   "source": [
    "# TEST\n",
    "arr_1 = rd.randint(10, size = 100) # 1D random array must show a basic statistic summary.\n",
    "arr_2 = rd.randint(10, size = (5,100)) #2D random matrix must show an error message.\n",
    "\n",
    "print(\"TEST 1:\\n\\nExpected result: Show basic statistic summary\\n\\nResult:\\n\")\n",
    "basic_summary(arr_1)\n",
    "print(\"\\nTEST 2:\\n\\nExpected result: Error message\\n\\nResult:\\n\")\n",
    "basic_summary(arr_2)"
   ]
  },
  {
   "cell_type": "markdown",
   "id": "8f14a0db",
   "metadata": {},
   "source": [
    "## Exercise 2"
   ]
  },
  {
   "cell_type": "markdown",
   "id": "a14f9fa6",
   "metadata": {},
   "source": [
    "Create a function that generates a square NxN of random numbers in range 0 to 100."
   ]
  },
  {
   "cell_type": "code",
   "execution_count": 188,
   "id": "eb61fb38",
   "metadata": {},
   "outputs": [],
   "source": [
    "# MAIN FUNCTION:\n",
    "# Function create_square()\n",
    "#    Parameters:\n",
    "#    - rows_num: gets the number of rows that the square must have.\n",
    "#    - columns_num: gets the numbre of columns that the square must have.\n",
    "\n",
    "def create_square(size):\n",
    "    result = rd.randint(100, size = (size, size))\n",
    "    return result\n",
    "\n",
    "# OTHERS FUNCTIONS:\n",
    "# Function get_size()\n",
    "def get_size():\n",
    "    size = int(input(\"Enter the size of the square: \"))\n",
    "    if size < 1:\n",
    "        print(\"ERROR: Size number must be at least 1!\")\n",
    "        size = get_size()\n",
    "    return size"
   ]
  },
  {
   "cell_type": "code",
   "execution_count": 189,
   "id": "d2586770",
   "metadata": {},
   "outputs": [
    {
     "name": "stdout",
     "output_type": "stream",
     "text": [
      "Enter the size of the square: 3\n",
      "\n",
      "TEST:\n",
      "Square 3 x 3: \n",
      "\n",
      "[[57 39 89]\n",
      " [98 23 18]\n",
      " [21 33 77]]\n"
     ]
    }
   ],
   "source": [
    "# TEST\n",
    "# Getting the parameters\n",
    "size = get_size()\n",
    "\n",
    "# Generating the square\n",
    "square_1 = create_square(size)\n",
    "print(\"\\nTEST:\\nSquare {} x {}: \\n\\n{}\".format(size, size, square_1))"
   ]
  },
  {
   "cell_type": "markdown",
   "id": "1058496f",
   "metadata": {},
   "source": [
    "## Exercise 3"
   ]
  },
  {
   "cell_type": "markdown",
   "id": "1d3f00d1",
   "metadata": {},
   "source": [
    "Create a function that given a two dimension table NxM calculates the totals in each row and in each column."
   ]
  },
  {
   "cell_type": "code",
   "execution_count": 192,
   "id": "d527cfa0",
   "metadata": {},
   "outputs": [],
   "source": [
    "# MAIN FUNCTION\n",
    "# Function get_totals()\n",
    "def get_totals(table):\n",
    "    sum_rows(table)\n",
    "    sum_columns(table)\n",
    "\n",
    "# OTHER FUNCTIONS\n",
    "# Function get_rows()\n",
    "def get_rows():\n",
    "    rows = int(input(\"Enter the number of rows: \"))\n",
    "    if rows < 1:\n",
    "        print(\"ERROR: Rows number must be at least 1!\")\n",
    "        rows = get_rows()\n",
    "    return rows\n",
    "\n",
    "# Function get_columns()\n",
    "def get_columns():\n",
    "    columns = int(input(\"Enter number of columns: \"))\n",
    "    if columns < 1:\n",
    "        print(\"ERROR: Columns number must be at least 1!\")\n",
    "        columns = get_columns()\n",
    "    return columns\n",
    "\n",
    "# Function get_table()\n",
    "def get_table():\n",
    "    rows = get_rows()\n",
    "    columns = get_columns()\n",
    "    table = rd.randint(10, size = (rows, columns))\n",
    "    return table\n",
    "\n",
    "# Function sum_rows()\n",
    "def sum_rows(table):\n",
    "    print(\"\\nRow totals:\")\n",
    "    i = 0\n",
    "    for element in table:\n",
    "        i += 1\n",
    "        print(\"\\tTotal in row {} is {}\".format(i, element.sum()))\n",
    "\n",
    "def sum_columns(table):\n",
    "    changed_axis_tb = np.stack(table, axis =1)\n",
    "    print(\"\\nColumn totals:\")\n",
    "    i = 0\n",
    "    for element in changed_axis_tb:\n",
    "        i += 1\n",
    "        print(\"\\tTotal in column {} is {}\".format(i, element.sum()))\n",
    "        "
   ]
  },
  {
   "cell_type": "code",
   "execution_count": 193,
   "id": "fdc56e4d",
   "metadata": {},
   "outputs": [
    {
     "name": "stdout",
     "output_type": "stream",
     "text": [
      "Enter the number of rows: 5\n",
      "Enter number of columns: 7\n",
      "[[8 6 2 9 3 7 8]\n",
      " [1 7 3 0 9 2 0]\n",
      " [3 2 1 7 9 0 5]\n",
      " [5 3 9 5 5 5 4]\n",
      " [8 4 1 4 3 7 1]]\n",
      "\n",
      "Row totals:\n",
      "\tTotal in row 1 is 43\n",
      "\tTotal in row 2 is 22\n",
      "\tTotal in row 3 is 27\n",
      "\tTotal in row 4 is 36\n",
      "\tTotal in row 5 is 28\n",
      "\n",
      "Column totals:\n",
      "\tTotal in column 1 is 25\n",
      "\tTotal in column 2 is 22\n",
      "\tTotal in column 3 is 16\n",
      "\tTotal in column 4 is 25\n",
      "\tTotal in column 5 is 29\n",
      "\tTotal in column 6 is 21\n",
      "\tTotal in column 7 is 18\n"
     ]
    }
   ],
   "source": [
    "# TEST\n",
    "table = get_table()\n",
    "print(table)\n",
    "get_totals(table)"
   ]
  },
  {
   "cell_type": "markdown",
   "id": "c55aa906",
   "metadata": {},
   "source": [
    "## Exercise 4"
   ]
  },
  {
   "cell_type": "markdown",
   "id": "b7a7d1f9",
   "metadata": {},
   "source": [
    "Create a function that calculates the correlation coeficient."
   ]
  },
  {
   "cell_type": "code",
   "execution_count": 196,
   "id": "9470891a",
   "metadata": {},
   "outputs": [],
   "source": [
    "# MAIN FUNCTION - get_corrcoef()\n",
    "def get_corrcoef(arr1, arr2):\n",
    "    # Calculate means from arr1 and arr2\n",
    "    mean1 = get_mean(arr1)\n",
    "    mean2 = get_mean(arr2)\n",
    "    \n",
    "    # Calculate numerator (sum covar)\n",
    "    numerator = 0\n",
    "    for i in range(len(arr1)):\n",
    "        numerator += (arr1[i]-mean1)*(arr2[i]-mean2)\n",
    "        \n",
    "    # Caculate denominator - it is necessary to import math to calculate the square root with math.sqrt\n",
    "    denominator = math.sqrt(get_sum_squares(arr1, mean1) * get_sum_squares(arr2, mean2))\n",
    "    \n",
    "    # Calculate correlation coeficient\n",
    "    result = numerator / denominator\n",
    "    return result\n",
    "\n",
    "# OTHER FUNCTIONS\n",
    "# Function get_mean():\n",
    "def get_mean(arr):\n",
    "    sum = 0\n",
    "    for element in arr:\n",
    "        sum += element\n",
    "    return sum/len(arr)   \n",
    "\n",
    "# Function get_squares\n",
    "def get_sum_squares(arr, mean):\n",
    "    sum = 0\n",
    "    for element in arr:\n",
    "        sum += (element - mean) ** 2\n",
    "    return sum"
   ]
  },
  {
   "cell_type": "code",
   "execution_count": 199,
   "id": "221cacde",
   "metadata": {},
   "outputs": [
    {
     "name": "stdout",
     "output_type": "stream",
     "text": [
      "TEST:\n",
      "Expected result vs result:\n",
      "0.012210708667924635 (expected result) \n",
      "0.01221070866792465 (result)\n"
     ]
    }
   ],
   "source": [
    "# TESTS\n",
    "arr1 = rd.rand(10)\n",
    "arr2 = rd.rand(10)\n",
    "\n",
    "print(\"TEST:\\nExpected result vs result:\\n{} (expected result) \\n{} (result)\".format(np.corrcoef(arr1,arr2)[0,1], get_corrcoef(arr1, arr2)))"
   ]
  }
 ],
 "metadata": {
  "kernelspec": {
   "display_name": "Python 3 (ipykernel)",
   "language": "python",
   "name": "python3"
  },
  "language_info": {
   "codemirror_mode": {
    "name": "ipython",
    "version": 3
   },
   "file_extension": ".py",
   "mimetype": "text/x-python",
   "name": "python",
   "nbconvert_exporter": "python",
   "pygments_lexer": "ipython3",
   "version": "3.9.12"
  }
 },
 "nbformat": 4,
 "nbformat_minor": 5
}
